{
 "cells": [
  {
   "cell_type": "code",
   "execution_count": 74,
   "metadata": {
    "collapsed": false
   },
   "outputs": [],
   "source": [
    "from keras.models import Model, Sequential\n",
    "from keras.layers import *\n",
    "from keras.optimizers import Adam\n",
    "from attention import Attention\n",
    "import keras_utils\n",
    "from keras.utils import to_categorical\n",
    "import NLP_utils\n",
    "import json\n",
    "from keras.backend import argmax\n",
    "from keras.preprocessing.text import Tokenizer\n",
    "from keras.preprocessing.sequence import pad_sequences\n",
    "from sklearn.cross_validation import train_test_split     #this is in model_selection module in newest sklearn release 0.18"
   ]
  },
  {
   "cell_type": "code",
   "execution_count": null,
   "metadata": {
    "collapsed": false
   },
   "outputs": [],
   "source": [
    "with open('data/signalmedia-1m.jsonl', 'r') as f:\n",
    "    entry = json.loads(next(f))\n",
    "    print(entry['title'])\n",
    "    print(entry['content'])"
   ]
  },
  {
   "cell_type": "code",
   "execution_count": 2,
   "metadata": {
    "collapsed": true
   },
   "outputs": [],
   "source": [
    "MAX_SEQUENCE_LENGTH = 1000"
   ]
  },
  {
   "cell_type": "code",
   "execution_count": null,
   "metadata": {
    "collapsed": false
   },
   "outputs": [],
   "source": [
    "NLP_utils.get_first_n_words(entry['content'], MAX_SEQUENCE_LENGTH)"
   ]
  },
  {
   "cell_type": "code",
   "execution_count": 3,
   "metadata": {
    "collapsed": false
   },
   "outputs": [],
   "source": [
    "with open('data/signalmedia-1m.jsonl', 'r') as f:\n",
    "    count = 0\n",
    "    texts = []\n",
    "    summaries = []\n",
    "    while count < 10000:\n",
    "        entry = json.loads(next(f))\n",
    "        count += 1\n",
    "        texts.append(NLP_utils.get_first_n_words(entry['content'], MAX_SEQUENCE_LENGTH))\n",
    "        summaries.append(NLP_utils.get_first_n_words(entry['title'], MAX_SEQUENCE_LENGTH))"
   ]
  },
  {
   "cell_type": "code",
   "execution_count": 4,
   "metadata": {
    "collapsed": false
   },
   "outputs": [
    {
     "data": {
      "text/plain": [
       "\"veterans saluted worcester's first ever breakfast club for ex soldiers which won over hearts, minds and bellies. the worcester breakfast club for hm forces veterans met at the postal order in foregate street at 10am on saturday. the club is designed to allow veterans a place to meet, socialise, eat and drink, giving hunger and loneliness their marching orders. father of two dave carney, aged 43, of merrimans hill, worcester, set up the club after being inspired by other similar clubs across the country. he said as you can see from the picture, we had a good response. five out of the 10 that attended said they saw the article in the newspaper and turned up. we even had an old chap travel from droitwich and he was late on parade by three hours. it's generated a lot of interest and i estimate from other veterans who saw the article that next month's meeting will attract about 20 people. onwards and upwards. he said the management at the pub had been extremely hospitable to them. mr carney said they bent over backwards for us. they really looked after us well. that is the best choice of venue i could have made. they even put 'reserved for the armed forces'. promoted stories the reserve veteran with the royal engineers wanted to go to a breakfast club but found the nearest ones were in bromsgrove and gloucester so he decided to set up his own, closer to home. he was influenced by derek hardman who set up a breakfast club for veterans in hull and andy wilson who set one up in newcastle. he said the idea has snowballed and there were now 70 similar clubs across the country and even some in germany. mr carney said with many royal british legion clubs closing he wanted veterans and serving personnel to feel they had somewhere they could go for good grub, beer and banter to recapture the comradery of being in the forces. the postal order was chosen because of its central location and its proximity to the railway station and hotels and reasonably priced food and drink. the management of the pub have even given the veterans a designated area within the pub. share article the next meeting is at the postal order on saturday, october 3 at 10am. the breakfast club meets on the first saturday of each month for those who want to attend in future. \""
      ]
     },
     "execution_count": 4,
     "metadata": {},
     "output_type": "execute_result"
    }
   ],
   "source": [
    "texts[0]"
   ]
  },
  {
   "cell_type": "code",
   "execution_count": 5,
   "metadata": {
    "collapsed": false
   },
   "outputs": [
    {
     "data": {
      "text/plain": [
       "'worcester breakfast club for veterans gives hunger its marching orders '"
      ]
     },
     "execution_count": 5,
     "metadata": {},
     "output_type": "execute_result"
    }
   ],
   "source": [
    "summaries[0]"
   ]
  },
  {
   "cell_type": "code",
   "execution_count": 6,
   "metadata": {
    "collapsed": true
   },
   "outputs": [],
   "source": [
    "tokenizer = Tokenizer(num_words=10000)\n",
    "tokenizer.fit_on_texts(texts)"
   ]
  },
  {
   "cell_type": "code",
   "execution_count": null,
   "metadata": {
    "collapsed": true
   },
   "outputs": [],
   "source": [
    "tokenizer.word_index"
   ]
  },
  {
   "cell_type": "code",
   "execution_count": 7,
   "metadata": {
    "collapsed": false
   },
   "outputs": [
    {
     "data": {
      "text/plain": [
       "[3470, 62, 493, 2952, 746, 7, 1828, 3226, 45, 665]"
      ]
     },
     "execution_count": 7,
     "metadata": {},
     "output_type": "execute_result"
    }
   ],
   "source": [
    "sequences = tokenizer.texts_to_sequences(texts)\n",
    "sequences[0][:10]"
   ]
  },
  {
   "cell_type": "code",
   "execution_count": 9,
   "metadata": {
    "collapsed": true
   },
   "outputs": [],
   "source": [
    "word2idx = tokenizer.word_index"
   ]
  },
  {
   "cell_type": "code",
   "execution_count": 8,
   "metadata": {
    "collapsed": false
   },
   "outputs": [],
   "source": [
    "idx2word = {key:val for val, key in zip(tokenizer.word_index.keys(), tokenizer.word_index.values())}\n"
   ]
  },
  {
   "cell_type": "code",
   "execution_count": 10,
   "metadata": {
    "collapsed": false
   },
   "outputs": [
    {
     "name": "stdout",
     "output_type": "stream",
     "text": [
      "veterans\n",
      "first\n",
      "ever\n",
      "breakfast\n",
      "club\n",
      "for\n",
      "ex\n",
      "soldiers\n",
      "which\n",
      "won\n"
     ]
    }
   ],
   "source": [
    "for word_num in sequences[0][:10]:\n",
    "    print(idx2word[word_num])"
   ]
  },
  {
   "cell_type": "code",
   "execution_count": 11,
   "metadata": {
    "collapsed": true
   },
   "outputs": [],
   "source": [
    "input_vocab_size = 10000\n"
   ]
  },
  {
   "cell_type": "code",
   "execution_count": 12,
   "metadata": {
    "collapsed": false
   },
   "outputs": [
    {
     "data": {
      "text/plain": [
       "array([3470,   62,  493, 2952,  746,    7, 1828, 3226,   45,  665])"
      ]
     },
     "execution_count": 12,
     "metadata": {},
     "output_type": "execute_result"
    }
   ],
   "source": [
    "#contstraining vocab to 10000\n",
    "sequences = [np.array([i if i<input_vocab_size-1 else input_vocab_size-1 for i in s]) for s in sequences]\n",
    "\n",
    "sequences[0][:10]"
   ]
  },
  {
   "cell_type": "code",
   "execution_count": 13,
   "metadata": {
    "collapsed": false
   },
   "outputs": [
    {
     "data": {
      "text/plain": [
       "array([   0,    1,    2, ..., 9997, 9998, 9999])"
      ]
     },
     "execution_count": 13,
     "metadata": {},
     "output_type": "execute_result"
    }
   ],
   "source": [
    "data = pad_sequences(sequences, maxlen=MAX_SEQUENCE_LENGTH)\n",
    "data.shape[0]\n",
    "np.arange(data.shape[0])"
   ]
  },
  {
   "cell_type": "code",
   "execution_count": 14,
   "metadata": {
    "collapsed": true
   },
   "outputs": [
    {
     "data": {
      "text/plain": [
       "array([   0,    0,    0,    0,    0,    0,    0,    0,    0,    0,    0,\n",
       "          0,    0,    0,    0,    0,    0,    0,    0,    0,    0,    0,\n",
       "          0,    0,    0,    0,    0,    0,    0,    0,    0,    0,    0,\n",
       "          0,    0,    0,    0,    0,    0,    0,    0,    0,    0,    0,\n",
       "          0,    0,    0,    0,    0,    0,    0,    0,    0,    0,    0,\n",
       "          0,    0,    0,    0,    0,    0,    0,    0,    0,    0,    0,\n",
       "          0,    0,    0,    0,    0,    0,    0,    0,    0,    0,    0,\n",
       "          0,    0,    0,    0,    0,    0,    0,    0,    0,    0,    0,\n",
       "          0,    0,    0,    0,    0,    0,    0,    0,    0,    0,    0,\n",
       "          0,    0,    0,    0,    0,    0,    0,    0,    0,    0,    0,\n",
       "          0,    0,    0,    0,    0,    0,    0,    0,    0,    0,    0,\n",
       "          0,    0,    0,    0,    0,    0,    0,    0,    0,    0,    0,\n",
       "          0,    0,    0,    0,    0,    0,    0,    0,    0,    0,    0,\n",
       "          0,    0,    0,    0,    0,    0,    0,    0,    0,    0,    0,\n",
       "          0,    0,    0,    0,    0,    0,    0,    0,    0,    0,    0,\n",
       "          0,    0,    0,    0,    0,    0,    0,    0,    0,    0,    0,\n",
       "          0,    0,    0,    0,    0,    0,    0,    0,    0,    0,    0,\n",
       "          0,    0,    0,    0,    0,    0,    0,    0,    0,    0,    0,\n",
       "          0,    0,    0,    0,    0,    0,    0,    0,    0,    0,    0,\n",
       "          0,    0,    0,    0,    0,    0,    0,    0,    0,    0,    0,\n",
       "          0,    0,    0,    0,    0,    0,    0,    0,    0,    0,    0,\n",
       "          0,    0,    0,    0,    0,    0,    0,    0,    0,    0,    0,\n",
       "          0,    0,    0,    0,    0,    0,    0,    0,    0,    0,    0,\n",
       "          0,    0,    0,    0,    0,    0,    0,    0,    0,    0,    0,\n",
       "          0,    0,    0,    0,    0,    0,    0,    0,    0,    0,    0,\n",
       "          0,    0,    0,    0,    0,    0,    0,    0,    0,    0,    0,\n",
       "          0,    0,    0,    0,    0,    0,    0,    0,    0,    0,    0,\n",
       "          0,    0,    0,    0,    0,    0,    0,    0,    0,    0,    0,\n",
       "          0,    0,    0,    0,    0,    0,    0,    0,    0,    0,    0,\n",
       "          0,    0,    0,    0,    0,    0,    0,    0,    0,    0,    0,\n",
       "          0,    0,    0,    0,    0,    0,    0,    0,    0,    0,    0,\n",
       "          0,    0,    0,    0,    0,    0,    0,    0,    0,    0,    0,\n",
       "          0,    0,    0,    0,    0,    0,    0,    0,    0,    0,    0,\n",
       "          0,    0,    0,    0,    0,    0,    0,    0,    0,    0,    0,\n",
       "          0,    0,    0,    0,    0,    0,    0,    0,    0,    0,    0,\n",
       "          0,    0,    0,    0,    0,    0,    0,    0,    0,    0,    0,\n",
       "          0,    0,    0,    0,    0,    0,    0,    0,    0,    0,    0,\n",
       "          0,    0,    0,    0,    0,    0,    0,    0,    0,    0,    0,\n",
       "          0,    0,    0,    0,    0,    0,    0,    0,    0,    0,    0,\n",
       "          0,    0,    0,    0,    0,    0,    0,    0,    0,    0,    0,\n",
       "          0,    0,    0,    0,    0,    0,    0,    0,    0,    0,    0,\n",
       "          0,    0,    0,    0,    0,    0,    0,    0,    0,    0,    0,\n",
       "          0,    0,    0,    0,    0,    0,    0,    0,    0,    0,    0,\n",
       "          0,    0,    0,    0,    0,    0,    0,    0,    0,    0,    0,\n",
       "          0,    0,    0,    0,    0,    0,    0,    0,    0,    0,    0,\n",
       "          0,    0,    0,    0,    0,    0,    0,    0,    0,    0,    0,\n",
       "          0,    0,    0,    0,    0,    0,    0,    0,    0,    0,    0,\n",
       "          0,    0,    0,    0,    0,    0,    0,    0,    0,    0,    0,\n",
       "          0,    0,    0,    0,    0,    0,    0,    0,    0,    0,    0,\n",
       "          0,    0,    0,    0,    0,    0,    0,    0,    0,    0,    0,\n",
       "          0,    0,    0,    0,    0,    0,    0,    0,    0,    0,    0,\n",
       "          0,    0,    0,    0,    0,    0,    0,    0,    0,    0,    0,\n",
       "          0,    0,    0,    0,    0,    0,    0,    0,    0,    0,    0,\n",
       "          0,    0,    0,    0,    0,    0,    0,    0,    0,    0,    0,\n",
       "          0,    0,    0,    0,    0,    0,    0,    0,    0,    0,    0,\n",
       "          0,    0,    0,    0,    0,    0,    0,    0,    0,    0,    0,\n",
       "          0,    0,    0,    0,    0,    0,    0,    0,    0, 3470,   62,\n",
       "        493, 2952,  746,    7, 1828, 3226,   45,  665,   67, 4958, 4714,\n",
       "          2,    1, 7825, 2952,  746,    7, 9949, 1424, 3470, 1167,   12,\n",
       "          1,  512,    6,  511,   12, 8813,    9,  288,    1,  746,    8,\n",
       "        879,    3,  918, 3470,    5,  239,    3,  735, 2472,    2, 3586,\n",
       "       1107, 5897,    2,   35, 2640, 1176,    4,   73, 3662, 3118, 1955,\n",
       "          4, 2067, 7825,  204,   44,    1,  746,   63,  122, 2167,   16,\n",
       "         71, 1040, 3827,  258,    1,  266,   25,   22,   13,   27,   47,\n",
       "        137,   20,    1, 1443,   33,   57,    5,  153, 1023,  231,   56,\n",
       "          4,    1,  114,   10, 2674,   22,   37,  793,    1,  449,    6,\n",
       "          1, 2678,    2, 1113,   44,   33,  147,   57,   28,  179,  982,\n",
       "         20,    2,   25,   15,  657,    9, 6215,   16,  112,  594,  162,\n",
       "       3751,    5,  304,    4,  498,    2,   26, 2168,   20,   71, 3470,\n",
       "         43,  793,    1,  449,   10,  163, 9127,  463,   24, 3967,   40,\n",
       "        227,   72,    2,   25,   22,    1,  261,   12,    1, 8540,   57,\n",
       "         51, 2092,    3,   91,  215,   22,   37, 8822,   67,    7,   84,\n",
       "         37,  241, 1243,   63,   84,  108,   10,    8,    1,  155, 1106,\n",
       "          4, 4011,   26,  111,   21,  131,   37,  147,  305,    7,    1,\n",
       "       2698, 2566,  853,    1, 2098, 2438,   11,    1, 2139, 4420,  796,\n",
       "          3,  183,    3,    5, 2952,  746,   30,  262,    1, 9766, 1645,\n",
       "         58,    6,    2,   65,   25, 1181,    3,  204,   44,   31,  246,\n",
       "       2602,    3,  126,   25,   15, 8261,   16, 6075,   43,  204,   44,\n",
       "          5, 2952,  746,    7, 3470,    6, 6256,    2, 2929, 3120,   43,\n",
       "        204,   42,   44,    6, 6271,   25,   22,    1, 1004,   23,    2,\n",
       "         70,   58,   92, 1261, 1040, 3827,  258,    1,  266,    2,  147,\n",
       "         82,    6, 1377,  215,   22,   11,  120, 2139,  984, 3827, 2427,\n",
       "         25,  796, 3470,    2, 1820, 2835,    3,  552,   37,   57, 4596,\n",
       "         37,  111,  183,    7,  153, 2274,    2,    3,    1,    4,  122,\n",
       "          6,    1, 1424,    1,  512,   15, 2865,  124,    4,   49,  586,\n",
       "       1213,    2,   49, 8367,    3,    1, 5202, 1174,    2, 2953,    2,\n",
       "       5853,  409,    2, 3586,    1,  261,    4,    1, 8540,   21,  147,\n",
       "        485,    1, 3470,    5, 5706,  381,  424,    1, 8540,  205,  449,\n",
       "          1,  163,  463,    8,   12,    1,  512,    9,  288,  504,   89,\n",
       "         12, 8813,    1, 2952,  746, 4103,    9,    1,   62,  288,    4,\n",
       "        216,  289,    7,  134,   43,  192,    3, 1996,    6,  284], dtype=int32)"
      ]
     },
     "execution_count": 14,
     "metadata": {},
     "output_type": "execute_result"
    }
   ],
   "source": [
    "data[0]"
   ]
  },
  {
   "cell_type": "code",
   "execution_count": 15,
   "metadata": {
    "collapsed": true
   },
   "outputs": [
    {
     "name": "stdout",
     "output_type": "stream",
     "text": [
      "None\n",
      "None\n",
      "None\n",
      "None\n",
      "None\n",
      "None\n",
      "None\n",
      "None\n",
      "None\n",
      "None\n",
      "None\n",
      "None\n",
      "None\n",
      "None\n",
      "None\n",
      "None\n",
      "None\n",
      "None\n",
      "None\n",
      "None\n",
      "None\n",
      "None\n",
      "None\n",
      "None\n",
      "None\n",
      "None\n",
      "None\n",
      "None\n",
      "None\n",
      "None\n",
      "None\n",
      "None\n",
      "None\n",
      "None\n",
      "None\n",
      "None\n",
      "None\n",
      "None\n",
      "None\n",
      "None\n",
      "None\n",
      "None\n",
      "None\n",
      "None\n",
      "None\n",
      "None\n",
      "None\n",
      "None\n",
      "None\n",
      "None\n",
      "None\n",
      "None\n",
      "None\n",
      "None\n",
      "None\n",
      "None\n",
      "None\n",
      "None\n",
      "None\n",
      "None\n",
      "None\n",
      "None\n",
      "None\n",
      "None\n",
      "None\n",
      "None\n",
      "None\n",
      "None\n",
      "None\n",
      "None\n",
      "None\n",
      "None\n",
      "None\n",
      "None\n",
      "None\n",
      "None\n",
      "None\n",
      "None\n",
      "None\n",
      "None\n",
      "None\n",
      "None\n",
      "None\n",
      "None\n",
      "None\n",
      "None\n",
      "None\n",
      "None\n",
      "None\n",
      "None\n",
      "None\n",
      "None\n",
      "None\n",
      "None\n",
      "None\n",
      "None\n",
      "None\n",
      "None\n",
      "None\n",
      "None\n",
      "None\n",
      "None\n",
      "None\n",
      "None\n",
      "None\n",
      "None\n",
      "None\n",
      "None\n",
      "None\n",
      "None\n",
      "None\n",
      "None\n",
      "None\n",
      "None\n",
      "None\n",
      "None\n",
      "None\n",
      "None\n",
      "None\n",
      "None\n",
      "None\n",
      "None\n",
      "None\n",
      "None\n",
      "None\n",
      "None\n",
      "None\n",
      "None\n",
      "None\n",
      "None\n",
      "None\n",
      "None\n",
      "None\n",
      "None\n",
      "None\n",
      "None\n",
      "None\n",
      "None\n",
      "None\n",
      "None\n",
      "None\n",
      "None\n",
      "None\n",
      "None\n",
      "None\n",
      "None\n",
      "None\n",
      "None\n",
      "None\n",
      "None\n",
      "None\n",
      "None\n",
      "None\n",
      "None\n",
      "None\n",
      "None\n",
      "None\n",
      "None\n",
      "None\n",
      "None\n",
      "None\n",
      "None\n",
      "None\n",
      "None\n",
      "None\n",
      "None\n",
      "None\n",
      "None\n",
      "None\n",
      "None\n",
      "None\n",
      "None\n",
      "None\n",
      "None\n",
      "None\n",
      "None\n",
      "None\n",
      "None\n",
      "None\n",
      "None\n",
      "None\n",
      "None\n",
      "None\n",
      "None\n",
      "None\n",
      "None\n",
      "None\n",
      "None\n",
      "None\n",
      "None\n",
      "None\n",
      "None\n",
      "None\n",
      "None\n",
      "None\n",
      "None\n",
      "None\n",
      "None\n",
      "None\n",
      "None\n",
      "None\n",
      "None\n",
      "None\n",
      "None\n",
      "None\n",
      "None\n",
      "None\n",
      "None\n",
      "None\n",
      "None\n",
      "None\n",
      "None\n",
      "None\n",
      "None\n",
      "None\n",
      "None\n",
      "None\n",
      "None\n",
      "None\n",
      "None\n",
      "None\n",
      "None\n",
      "None\n",
      "None\n",
      "None\n",
      "None\n",
      "None\n",
      "None\n",
      "None\n",
      "None\n",
      "None\n",
      "None\n",
      "None\n",
      "None\n",
      "None\n",
      "None\n",
      "None\n",
      "None\n",
      "None\n",
      "None\n",
      "None\n",
      "None\n",
      "None\n",
      "None\n",
      "None\n",
      "None\n",
      "None\n",
      "None\n",
      "None\n",
      "None\n",
      "None\n",
      "None\n",
      "None\n",
      "None\n",
      "None\n",
      "None\n",
      "None\n",
      "None\n",
      "None\n",
      "None\n",
      "None\n",
      "None\n",
      "None\n",
      "None\n",
      "None\n",
      "None\n",
      "None\n",
      "None\n",
      "None\n",
      "None\n",
      "None\n",
      "None\n",
      "None\n",
      "None\n",
      "None\n",
      "None\n",
      "None\n",
      "None\n",
      "None\n",
      "None\n",
      "None\n",
      "None\n",
      "None\n",
      "None\n",
      "None\n",
      "None\n",
      "None\n",
      "None\n",
      "None\n",
      "None\n",
      "None\n",
      "None\n",
      "None\n",
      "None\n",
      "None\n",
      "None\n",
      "None\n",
      "None\n",
      "None\n",
      "None\n",
      "None\n",
      "None\n",
      "None\n",
      "None\n",
      "None\n",
      "None\n",
      "None\n",
      "None\n",
      "None\n",
      "None\n",
      "None\n",
      "None\n",
      "None\n",
      "None\n",
      "None\n",
      "None\n",
      "None\n",
      "None\n",
      "None\n",
      "None\n",
      "None\n",
      "None\n",
      "None\n",
      "None\n",
      "None\n",
      "None\n",
      "None\n",
      "None\n",
      "None\n",
      "None\n",
      "None\n",
      "None\n",
      "None\n",
      "None\n",
      "None\n",
      "None\n",
      "None\n",
      "None\n",
      "None\n",
      "None\n",
      "None\n",
      "None\n",
      "None\n",
      "None\n",
      "None\n",
      "None\n",
      "None\n",
      "None\n",
      "None\n",
      "None\n",
      "None\n",
      "None\n",
      "None\n",
      "None\n",
      "None\n",
      "None\n",
      "None\n",
      "None\n",
      "None\n",
      "None\n",
      "None\n",
      "None\n",
      "None\n",
      "None\n",
      "None\n",
      "None\n",
      "None\n",
      "None\n",
      "None\n",
      "None\n",
      "None\n",
      "None\n",
      "None\n",
      "None\n",
      "None\n",
      "None\n",
      "None\n",
      "None\n",
      "None\n",
      "None\n",
      "None\n",
      "None\n",
      "None\n",
      "None\n",
      "None\n",
      "None\n",
      "None\n",
      "None\n",
      "None\n",
      "None\n",
      "None\n",
      "None\n",
      "None\n",
      "None\n",
      "None\n",
      "None\n",
      "None\n",
      "None\n",
      "None\n",
      "None\n",
      "None\n",
      "None\n",
      "None\n",
      "None\n",
      "None\n",
      "None\n",
      "None\n",
      "None\n",
      "None\n",
      "None\n",
      "None\n",
      "None\n",
      "None\n",
      "None\n",
      "None\n",
      "None\n",
      "None\n",
      "None\n",
      "None\n",
      "None\n",
      "None\n",
      "None\n",
      "None\n",
      "None\n",
      "None\n",
      "None\n",
      "None\n",
      "None\n",
      "None\n",
      "None\n",
      "None\n",
      "None\n",
      "None\n",
      "None\n",
      "None\n",
      "None\n",
      "None\n",
      "None\n",
      "None\n",
      "None\n",
      "None\n",
      "None\n",
      "None\n",
      "None\n",
      "None\n",
      "None\n",
      "None\n",
      "None\n",
      "None\n",
      "None\n",
      "None\n",
      "None\n",
      "None\n",
      "None\n",
      "None\n",
      "None\n",
      "None\n",
      "None\n",
      "None\n",
      "None\n",
      "None\n",
      "None\n",
      "None\n",
      "None\n",
      "None\n",
      "None\n",
      "None\n",
      "None\n",
      "None\n",
      "None\n",
      "None\n",
      "None\n",
      "None\n",
      "None\n",
      "None\n",
      "None\n",
      "None\n",
      "None\n",
      "None\n",
      "None\n",
      "None\n",
      "None\n",
      "None\n",
      "None\n",
      "None\n",
      "None\n",
      "None\n",
      "None\n",
      "None\n",
      "None\n",
      "None\n",
      "None\n",
      "None\n",
      "None\n",
      "None\n",
      "None\n",
      "None\n",
      "None\n",
      "None\n",
      "None\n",
      "None\n",
      "None\n",
      "None\n",
      "None\n",
      "None\n",
      "None\n",
      "None\n",
      "None\n",
      "None\n",
      "None\n",
      "None\n",
      "None\n",
      "None\n",
      "None\n",
      "None\n",
      "None\n",
      "None\n",
      "None\n",
      "None\n",
      "None\n",
      "None\n",
      "None\n",
      "None\n",
      "None\n",
      "None\n",
      "None\n",
      "None\n",
      "None\n",
      "None\n",
      "None\n",
      "None\n",
      "None\n",
      "None\n",
      "None\n",
      "None\n",
      "None\n",
      "None\n",
      "None\n",
      "None\n",
      "None\n",
      "None\n",
      "None\n",
      "None\n",
      "None\n",
      "None\n",
      "None\n",
      "None\n",
      "None\n",
      "None\n",
      "None\n",
      "None\n",
      "None\n",
      "None\n",
      "None\n",
      "None\n",
      "None\n",
      "None\n",
      "None\n",
      "None\n",
      "None\n",
      "None\n",
      "None\n",
      "None\n",
      "None\n",
      "None\n",
      "None\n",
      "None\n",
      "None\n",
      "None\n",
      "None\n",
      "None\n",
      "None\n",
      "None\n",
      "None\n",
      "None\n",
      "None\n",
      "None\n",
      "None\n",
      "None\n",
      "None\n",
      "None\n",
      "None\n",
      "None\n",
      "None\n",
      "None\n",
      "None\n",
      "None\n",
      "None\n",
      "None\n",
      "None\n",
      "None\n",
      "None\n",
      "None\n",
      "None\n",
      "None\n",
      "None\n",
      "None\n",
      "None\n",
      "None\n",
      "None\n",
      "None\n",
      "None\n",
      "None\n",
      "None\n",
      "None\n",
      "None\n",
      "None\n",
      "None\n",
      "None\n",
      "None\n",
      "None\n",
      "None\n",
      "None\n",
      "None\n",
      "None\n",
      "None\n",
      "None\n",
      "None\n",
      "None\n",
      "None\n",
      "None\n",
      "None\n",
      "None\n",
      "None\n",
      "None\n",
      "veterans\n",
      "first\n",
      "ever\n",
      "breakfast\n",
      "club\n",
      "for\n",
      "ex\n",
      "soldiers\n",
      "which\n",
      "won\n",
      "over\n",
      "hearts\n",
      "minds\n",
      "and\n",
      "the\n",
      "worcester\n",
      "breakfast\n",
      "club\n",
      "for\n",
      "hm\n",
      "forces\n",
      "veterans\n",
      "met\n",
      "at\n",
      "the\n",
      "order\n",
      "in\n",
      "street\n",
      "at\n",
      "10am\n",
      "on\n",
      "saturday\n",
      "the\n",
      "club\n",
      "is\n",
      "designed\n",
      "to\n",
      "allow\n",
      "veterans\n",
      "a\n",
      "place\n",
      "to\n",
      "meet\n",
      "eat\n",
      "and\n",
      "drink\n",
      "giving\n",
      "hunger\n",
      "and\n",
      "their\n",
      "orders\n",
      "father\n",
      "of\n",
      "two\n",
      "dave\n",
      "aged\n",
      "43\n",
      "of\n",
      "hill\n",
      "worcester\n",
      "set\n",
      "up\n",
      "the\n",
      "club\n",
      "after\n",
      "being\n",
      "inspired\n",
      "by\n",
      "other\n",
      "similar\n",
      "clubs\n",
      "across\n",
      "the\n",
      "country\n",
      "he\n",
      "said\n",
      "as\n",
      "you\n",
      "can\n",
      "see\n",
      "from\n",
      "the\n",
      "picture\n",
      "we\n",
      "had\n",
      "a\n",
      "good\n",
      "response\n",
      "five\n",
      "out\n",
      "of\n",
      "the\n",
      "10\n",
      "that\n",
      "attended\n",
      "said\n",
      "they\n",
      "saw\n",
      "the\n",
      "article\n",
      "in\n",
      "the\n",
      "newspaper\n",
      "and\n",
      "turned\n",
      "up\n",
      "we\n",
      "even\n",
      "had\n",
      "an\n",
      "old\n",
      "travel\n",
      "from\n",
      "and\n",
      "he\n",
      "was\n",
      "late\n",
      "on\n",
      "parade\n",
      "by\n",
      "three\n",
      "hours\n",
      "it's\n",
      "generated\n",
      "a\n",
      "lot\n",
      "of\n",
      "interest\n",
      "and\n",
      "i\n",
      "estimate\n",
      "from\n",
      "other\n",
      "veterans\n",
      "who\n",
      "saw\n",
      "the\n",
      "article\n",
      "that\n",
      "next\n",
      "month's\n",
      "meeting\n",
      "will\n",
      "attract\n",
      "about\n",
      "20\n",
      "people\n",
      "and\n",
      "he\n",
      "said\n",
      "the\n",
      "management\n",
      "at\n",
      "the\n",
      "pub\n",
      "had\n",
      "been\n",
      "extremely\n",
      "to\n",
      "them\n",
      "mr\n",
      "said\n",
      "they\n",
      "bent\n",
      "over\n",
      "for\n",
      "us\n",
      "they\n",
      "really\n",
      "looked\n",
      "after\n",
      "us\n",
      "well\n",
      "that\n",
      "is\n",
      "the\n",
      "best\n",
      "choice\n",
      "of\n",
      "venue\n",
      "i\n",
      "could\n",
      "have\n",
      "made\n",
      "they\n",
      "even\n",
      "put\n",
      "for\n",
      "the\n",
      "armed\n",
      "promoted\n",
      "stories\n",
      "the\n",
      "reserve\n",
      "veteran\n",
      "with\n",
      "the\n",
      "royal\n",
      "engineers\n",
      "wanted\n",
      "to\n",
      "go\n",
      "to\n",
      "a\n",
      "breakfast\n",
      "club\n",
      "but\n",
      "found\n",
      "the\n",
      "nearest\n",
      "ones\n",
      "were\n",
      "in\n",
      "and\n",
      "so\n",
      "he\n",
      "decided\n",
      "to\n",
      "set\n",
      "up\n",
      "his\n",
      "own\n",
      "closer\n",
      "to\n",
      "home\n",
      "he\n",
      "was\n",
      "influenced\n",
      "by\n",
      "derek\n",
      "who\n",
      "set\n",
      "up\n",
      "a\n",
      "breakfast\n",
      "club\n",
      "for\n",
      "veterans\n",
      "in\n",
      "hull\n",
      "and\n",
      "andy\n",
      "wilson\n",
      "who\n",
      "set\n",
      "one\n",
      "up\n",
      "in\n",
      "newcastle\n",
      "he\n",
      "said\n",
      "the\n",
      "idea\n",
      "has\n",
      "and\n",
      "there\n",
      "were\n",
      "now\n",
      "70\n",
      "similar\n",
      "clubs\n",
      "across\n",
      "the\n",
      "country\n",
      "and\n",
      "even\n",
      "some\n",
      "in\n",
      "germany\n",
      "mr\n",
      "said\n",
      "with\n",
      "many\n",
      "royal\n",
      "british\n",
      "clubs\n",
      "closing\n",
      "he\n",
      "wanted\n",
      "veterans\n",
      "and\n",
      "serving\n",
      "personnel\n",
      "to\n",
      "feel\n",
      "they\n",
      "had\n",
      "somewhere\n",
      "they\n",
      "could\n",
      "go\n",
      "for\n",
      "good\n",
      "beer\n",
      "and\n",
      "to\n",
      "the\n",
      "of\n",
      "being\n",
      "in\n",
      "the\n",
      "forces\n",
      "the\n",
      "order\n",
      "was\n",
      "chosen\n",
      "because\n",
      "of\n",
      "its\n",
      "central\n",
      "location\n",
      "and\n",
      "its\n",
      "proximity\n",
      "to\n",
      "the\n",
      "railway\n",
      "station\n",
      "and\n",
      "hotels\n",
      "and\n",
      "priced\n",
      "food\n",
      "and\n",
      "drink\n",
      "the\n",
      "management\n",
      "of\n",
      "the\n",
      "pub\n",
      "have\n",
      "even\n",
      "given\n",
      "the\n",
      "veterans\n",
      "a\n",
      "designated\n",
      "area\n",
      "within\n",
      "the\n",
      "pub\n",
      "share\n",
      "article\n",
      "the\n",
      "next\n",
      "meeting\n",
      "is\n",
      "at\n",
      "the\n",
      "order\n",
      "on\n",
      "saturday\n",
      "october\n",
      "3\n",
      "at\n",
      "10am\n",
      "the\n",
      "breakfast\n",
      "club\n",
      "meets\n",
      "on\n",
      "the\n",
      "first\n",
      "saturday\n",
      "of\n",
      "each\n",
      "month\n",
      "for\n",
      "those\n",
      "who\n",
      "want\n",
      "to\n",
      "attend\n",
      "in\n",
      "future\n"
     ]
    }
   ],
   "source": [
    "for word_num in data[0][:1000]:\n",
    "    print(idx2word.get(word_num))"
   ]
  },
  {
   "cell_type": "code",
   "execution_count": 16,
   "metadata": {
    "collapsed": true
   },
   "outputs": [],
   "source": [
    "embeddings_index = {}\n",
    "f = open('glove/glove.6B.50d.txt')\n",
    "for line in f:\n",
    "    values = line.split()\n",
    "    word = values[0]\n",
    "    coefs = np.asarray(values[1:], dtype='float32')\n",
    "    embeddings_index[word] = coefs\n",
    "f.close()"
   ]
  },
  {
   "cell_type": "code",
   "execution_count": 17,
   "metadata": {
    "collapsed": true
   },
   "outputs": [],
   "source": [
    "glove_embedding_dimension = 50\n"
   ]
  },
  {
   "cell_type": "code",
   "execution_count": 18,
   "metadata": {
    "collapsed": false
   },
   "outputs": [
    {
     "name": "stdout",
     "output_type": "stream",
     "text": [
      "9999\n"
     ]
    }
   ],
   "source": [
    "truncated_word_index = {key: value for key, value in word2idx.items() if value < 10000}\n",
    "print(len(truncated_word_index))\n",
    "embedding_matrix = np.zeros((len(truncated_word_index) + 1, glove_embedding_dimension))\n",
    "for word, i in truncated_word_index.items():\n",
    "    # use .get() so that it'll return None if the word isn't in the index rather than raising key exception\n",
    "    embedding_vector = embeddings_index.get(word)\n",
    "    if embedding_vector is not None:\n",
    "        # words not found in embedding index will be all-zeros.\n",
    "        embedding_matrix[i] = embedding_vector"
   ]
  },
  {
   "cell_type": "code",
   "execution_count": 19,
   "metadata": {
    "collapsed": false
   },
   "outputs": [
    {
     "data": {
      "text/plain": [
       "array([  4.18000013e-01,   2.49679998e-01,  -4.12420005e-01,\n",
       "         1.21699996e-01,   3.45270008e-01,  -4.44569997e-02,\n",
       "        -4.96879995e-01,  -1.78619996e-01,  -6.60229998e-04,\n",
       "        -6.56599998e-01,   2.78430015e-01,  -1.47670001e-01,\n",
       "        -5.56770027e-01,   1.46579996e-01,  -9.50950012e-03,\n",
       "         1.16579998e-02,   1.02040000e-01,  -1.27920002e-01,\n",
       "        -8.44299972e-01,  -1.21809997e-01,  -1.68009996e-02,\n",
       "        -3.32789987e-01,  -1.55200005e-01,  -2.31309995e-01,\n",
       "        -1.91809997e-01,  -1.88230002e+00,  -7.67459989e-01,\n",
       "         9.90509987e-02,  -4.21249986e-01,  -1.95260003e-01,\n",
       "         4.00710011e+00,  -1.85939997e-01,  -5.22870004e-01,\n",
       "        -3.16810012e-01,   5.92130003e-04,   7.44489999e-03,\n",
       "         1.77780002e-01,  -1.58969998e-01,   1.20409997e-02,\n",
       "        -5.42230010e-02,  -2.98709989e-01,  -1.57490000e-01,\n",
       "        -3.47579986e-01,  -4.56370004e-02,  -4.42510009e-01,\n",
       "         1.87849998e-01,   2.78489990e-03,  -1.84110001e-01,\n",
       "        -1.15139998e-01,  -7.85809994e-01])"
      ]
     },
     "execution_count": 19,
     "metadata": {},
     "output_type": "execute_result"
    }
   ],
   "source": [
    "embedding_matrix[1]"
   ]
  },
  {
   "cell_type": "code",
   "execution_count": 20,
   "metadata": {
    "collapsed": true
   },
   "outputs": [],
   "source": [
    "MAX_SUMMARY_LENGTH = 20"
   ]
  },
  {
   "cell_type": "code",
   "execution_count": 21,
   "metadata": {
    "collapsed": false
   },
   "outputs": [
    {
     "data": {
      "text/plain": [
       "[7825, 2952, 746, 7, 3470, 1347, 5897, 49, 2640]"
      ]
     },
     "execution_count": 21,
     "metadata": {},
     "output_type": "execute_result"
    }
   ],
   "source": [
    "y_summaries = tokenizer.texts_to_sequences(summaries)\n",
    "y_summaries[0][:10]"
   ]
  },
  {
   "cell_type": "code",
   "execution_count": 22,
   "metadata": {
    "collapsed": true
   },
   "outputs": [],
   "source": [
    "output_vocab_size = 10000"
   ]
  },
  {
   "cell_type": "code",
   "execution_count": 23,
   "metadata": {
    "collapsed": false
   },
   "outputs": [
    {
     "data": {
      "text/plain": [
       "array([7825, 2952,  746,    7, 3470, 1347, 5897,   49, 2640])"
      ]
     },
     "execution_count": 23,
     "metadata": {},
     "output_type": "execute_result"
    }
   ],
   "source": [
    "#contstraining vocab to 10000\n",
    "y_summaries = [np.array([i if i<output_vocab_size-1 else output_vocab_size-1 for i in s]) for s in y_summaries]\n",
    "y_summaries[0][:10]"
   ]
  },
  {
   "cell_type": "code",
   "execution_count": 24,
   "metadata": {
    "collapsed": false
   },
   "outputs": [
    {
     "name": "stdout",
     "output_type": "stream",
     "text": [
      "worcester\n",
      "breakfast\n",
      "club\n",
      "for\n",
      "veterans\n",
      "gives\n",
      "hunger\n",
      "its\n",
      "orders\n"
     ]
    }
   ],
   "source": [
    "for word_num in y_summaries[0][:21]:\n",
    "    print(idx2word.get(word_num))"
   ]
  },
  {
   "cell_type": "code",
   "execution_count": 25,
   "metadata": {
    "collapsed": false
   },
   "outputs": [
    {
     "data": {
      "text/plain": [
       "array([   0,    1,    2, ..., 9997, 9998, 9999])"
      ]
     },
     "execution_count": 25,
     "metadata": {},
     "output_type": "execute_result"
    }
   ],
   "source": [
    "y_summaries = pad_sequences(y_summaries, maxlen=MAX_SUMMARY_LENGTH, padding='post', truncating='post')\n",
    "y_summaries.shape[0]\n",
    "np.arange(y_summaries.shape[0])"
   ]
  },
  {
   "cell_type": "code",
   "execution_count": 26,
   "metadata": {
    "collapsed": false,
    "scrolled": true
   },
   "outputs": [
    {
     "name": "stdout",
     "output_type": "stream",
     "text": [
      "worcester\n",
      "breakfast\n",
      "club\n",
      "for\n",
      "veterans\n",
      "gives\n",
      "hunger\n",
      "its\n",
      "orders\n",
      "None\n",
      "None\n",
      "None\n",
      "None\n",
      "None\n",
      "None\n",
      "None\n",
      "None\n",
      "None\n",
      "None\n",
      "None\n"
     ]
    }
   ],
   "source": [
    "for word_num in y_summaries[0][:21]:\n",
    "    print(idx2word.get(word_num))"
   ]
  },
  {
   "cell_type": "code",
   "execution_count": 27,
   "metadata": {
    "collapsed": false
   },
   "outputs": [],
   "source": [
    "# go_token = word2idx[\"*\"]\n",
    "# make second to last word in index the go token\n",
    "dec_input_ = np.concatenate([np.ones((len(y_summaries),1)) * 9998, y_summaries[:,:-1]], axis=1)"
   ]
  },
  {
   "cell_type": "code",
   "execution_count": 28,
   "metadata": {
    "collapsed": false
   },
   "outputs": [
    {
     "data": {
      "text/plain": [
       "array([ 9998.,    19.,    39.,  4477.,   850.,    24.,    54.,   866.,\n",
       "         151.,     0.,     0.,     0.,     0.,     0.,     0.,     0.,\n",
       "           0.,     0.,     0.,     0.])"
      ]
     },
     "execution_count": 28,
     "metadata": {},
     "output_type": "execute_result"
    }
   ],
   "source": [
    "dec_input_[3]"
   ]
  },
  {
   "cell_type": "code",
   "execution_count": 29,
   "metadata": {
    "collapsed": true
   },
   "outputs": [],
   "source": [
    "(input_train, input_test, labels_train, labels_test, dec_input_train, dec_input_test) = train_test_split(data, y_summaries, dec_input_, test_size=0.1)"
   ]
  },
  {
   "cell_type": "code",
   "execution_count": 30,
   "metadata": {
    "collapsed": false
   },
   "outputs": [
    {
     "data": {
      "text/plain": [
       "(9000, 1000)"
      ]
     },
     "execution_count": 30,
     "metadata": {},
     "output_type": "execute_result"
    }
   ],
   "source": [
    "input_train.shape"
   ]
  },
  {
   "cell_type": "code",
   "execution_count": 31,
   "metadata": {
    "collapsed": false
   },
   "outputs": [
    {
     "data": {
      "text/plain": [
       "(9000, 20)"
      ]
     },
     "execution_count": 31,
     "metadata": {},
     "output_type": "execute_result"
    }
   ],
   "source": [
    "labels_train.shape"
   ]
  },
  {
   "cell_type": "code",
   "execution_count": null,
   "metadata": {
    "collapsed": true
   },
   "outputs": [],
   "source": []
  },
  {
   "cell_type": "code",
   "execution_count": 32,
   "metadata": {
    "collapsed": true
   },
   "outputs": [],
   "source": [
    "def get_rnn(return_sequences= True): \n",
    "    return LSTM(dim, dropout_U= 0.1, dropout_W= 0.1, \n",
    "                implementation=2, return_sequences=return_sequences)"
   ]
  },
  {
   "cell_type": "code",
   "execution_count": 33,
   "metadata": {
    "collapsed": false
   },
   "outputs": [
    {
     "name": "stderr",
     "output_type": "stream",
     "text": [
      "/home/javed/anaconda3/lib/python3.5/site-packages/ipykernel/__main__.py:3: UserWarning: Update your `LSTM` call to the Keras 2 API: `LSTM(240, implementation=2, dropout=0.1, recurrent_dropout=0.1, return_sequences=True)`\n",
      "  app.launch_new_instance()\n"
     ]
    }
   ],
   "source": [
    "dim = 240\n",
    "inp = Input((MAX_SEQUENCE_LENGTH,))\n",
    "inp_dec = Input((MAX_SUMMARY_LENGTH,))\n",
    "emb_dec = Embedding(output_vocab_size, glove_embedding_dimension, input_length=MAX_SUMMARY_LENGTH, weights=[embedding_matrix], trainable=False)(inp_dec)\n",
    "emb_dec = Dense(dim)(emb_dec)\n",
    "\n",
    "x = Embedding(input_vocab_size, glove_embedding_dimension, input_length=MAX_SEQUENCE_LENGTH, weights=[embedding_matrix], trainable=False)(inp)\n",
    "x = Bidirectional(get_rnn())(x)\n",
    "x = get_rnn()(x)\n",
    "x = get_rnn()(x)\n",
    "x = Attention(get_rnn, 3)([x, emb_dec])\n",
    "x = TimeDistributed(Dense(output_vocab_size, activation='softmax'))(x)"
   ]
  },
  {
   "cell_type": "code",
   "execution_count": 34,
   "metadata": {
    "collapsed": true
   },
   "outputs": [],
   "source": [
    "model = Model([inp, inp_dec], x)\n",
    "model.compile(Adam(), 'categorical_crossentropy', metrics=['acc'])"
   ]
  },
  {
   "cell_type": "code",
   "execution_count": null,
   "metadata": {
    "collapsed": false
   },
   "outputs": [],
   "source": [
    "model.summary()"
   ]
  },
  {
   "cell_type": "code",
   "execution_count": 35,
   "metadata": {
    "collapsed": false
   },
   "outputs": [],
   "source": [
    "#parms = {'verbose': 0, 'callbacks': [TQDMNotebookCallback(leave_inner=True)]}\n",
    "lstm_params = {}"
   ]
  },
  {
   "cell_type": "code",
   "execution_count": 53,
   "metadata": {
    "collapsed": true
   },
   "outputs": [],
   "source": [
    "def gen(input_data, dec_data, labels, batch_size):\n",
    "    batch_end_ptr = 0\n",
    "    while True:\n",
    "        batch_begin_ptr = batch_end_ptr\n",
    "        batch_end_ptr += batch_size\n",
    "        # if we made the batch end pointer go off the edge of the array, set it back to the beginning\n",
    "        if batch_end_ptr >= len(input_data):\n",
    "            batch_end_ptr = min(batch_size, len(input_data) - 1)\n",
    "            batch_begin_ptr = 0\n",
    "        \n",
    "        # take samples between the two pointers as the batch\n",
    "        input_batch = input_data[batch_begin_ptr:batch_end_ptr]\n",
    "        dec_batch = dec_data[batch_begin_ptr:batch_end_ptr]\n",
    "        labels_batch = np.array([to_categorical(ex, 10000) for ex in labels[batch_begin_ptr:batch_end_ptr]])\n",
    "\n",
    "        yield ([input_batch, dec_batch], labels_batch)"
   ]
  },
  {
   "cell_type": "code",
   "execution_count": 54,
   "metadata": {
    "collapsed": true
   },
   "outputs": [],
   "source": [
    "batch_size = 64"
   ]
  },
  {
   "cell_type": "code",
   "execution_count": 55,
   "metadata": {
    "collapsed": true
   },
   "outputs": [],
   "source": [
    "train_gen = gen(input_train, dec_input_train, labels_train, batch_size)\n",
    "val_gen = gen(input_test, dec_input_test, labels_test, batch_size)"
   ]
  },
  {
   "cell_type": "code",
   "execution_count": 56,
   "metadata": {
    "collapsed": false
   },
   "outputs": [
    {
     "name": "stdout",
     "output_type": "stream",
     "text": [
      "Epoch 1/1\n",
      "141/140 [==============================] - 450s - loss: 3.9451 - acc: 0.6041 - val_loss: 3.2401 - val_acc: 0.6068\n"
     ]
    }
   ],
   "source": [
    "hist=model.fit_generator(train_gen, steps_per_epoch=len(input_train)/batch_size, validation_data=val_gen, validation_steps=len(input_test)/batch_size, epochs=1)"
   ]
  },
  {
   "cell_type": "code",
   "execution_count": 57,
   "metadata": {
    "collapsed": false
   },
   "outputs": [
    {
     "name": "stdout",
     "output_type": "stream",
     "text": [
      "Epoch 1/3\n",
      "141/140 [==============================] - 439s - loss: 3.1662 - acc: 0.6095 - val_loss: 3.2075 - val_acc: 0.6080\n",
      "Epoch 2/3\n",
      "141/140 [==============================] - 446s - loss: 3.1348 - acc: 0.6106 - val_loss: 3.1919 - val_acc: 0.6108\n",
      "Epoch 3/3\n",
      "141/140 [==============================] - 440s - loss: 3.1204 - acc: 0.6106 - val_loss: 3.1922 - val_acc: 0.6103\n"
     ]
    }
   ],
   "source": [
    "hist2=model.fit_generator(train_gen, steps_per_epoch=len(input_train)/batch_size, validation_data=val_gen, validation_steps=len(input_test)/batch_size, epochs=3)"
   ]
  },
  {
   "cell_type": "code",
   "execution_count": 58,
   "metadata": {
    "collapsed": true
   },
   "outputs": [],
   "source": [
    "import matplotlib.pyplot as plt"
   ]
  },
  {
   "cell_type": "code",
   "execution_count": 59,
   "metadata": {
    "collapsed": false
   },
   "outputs": [
    {
     "data": {
      "image/png": "[encoded data removed]",
      "text/plain": [
       "<matplotlib.figure.Figure at 0x7fe76d44c048>"
      ]
     },
     "metadata": {},
     "output_type": "display_data"
    }
   ],
   "source": [
    "plt.plot(hist.history['loss'] + hist2.history['loss'])\n",
    "plt.plot(hist.history['val_loss']+ hist2.history['val_loss'])\n",
    "plt.title('model loss')\n",
    "plt.ylabel('loss')\n",
    "plt.xlabel('epoch')\n",
    "plt.legend(['train', 'test'], loc='upper left')\n",
    "plt.show()"
   ]
  },
  {
   "cell_type": "code",
   "execution_count": 88,
   "metadata": {
    "collapsed": false
   },
   "outputs": [],
   "source": [
    "test = model.predict([input_test[:20], dec_input_test[:20]])"
   ]
  },
  {
   "cell_type": "code",
   "execution_count": 72,
   "metadata": {
    "collapsed": false
   },
   "outputs": [],
   "source": [
    "test1, test2 = test[0], test[1]"
   ]
  },
  {
   "cell_type": "code",
   "execution_count": 84,
   "metadata": {
    "collapsed": false
   },
   "outputs": [
    {
     "data": {
      "text/plain": [
       "array([1, 3, 3, 0, 0, 0, 0, 0, 0, 0, 0, 0, 0, 0, 0, 0, 0, 0, 0, 0])"
      ]
     },
     "execution_count": 84,
     "metadata": {},
     "output_type": "execute_result"
    }
   ],
   "source": [
    "np.argmax(test1, axis=-1)"
   ]
  },
  {
   "cell_type": "code",
   "execution_count": 89,
   "metadata": {
    "collapsed": false
   },
   "outputs": [
    {
     "name": "stdout",
     "output_type": "stream",
     "text": [
      "['the', 'to', 'to']\n",
      "['the']\n",
      "['the', 'to', 'to']\n",
      "['the', 'to', 'to']\n",
      "['the', 'to', 'to']\n",
      "['the', 'to', 'to']\n",
      "['the', 'to', 'to']\n",
      "['the']\n",
      "['the', 'to', 'to']\n",
      "['the', 'to', 'to']\n",
      "['the', 'to', 'to']\n",
      "['the', 'to', 'to']\n",
      "['the', 'to', 'to']\n",
      "['the', 'to', 'to']\n",
      "['the', 'to', 'to']\n",
      "['the', 'to', 'to']\n",
      "['the', 'to', 'to']\n",
      "['the', 'to', 'to']\n",
      "['the', 'to', 'to']\n",
      "['the', 'to', 'to']\n"
     ]
    }
   ],
   "source": [
    "for summ in test:\n",
    "   print([idx2word[word] for word in np.argmax(summ, axis=-1) if word != 0])"
   ]
  },
  {
   "cell_type": "code",
   "execution_count": 86,
   "metadata": {
    "collapsed": false
   },
   "outputs": [
    {
     "data": {
      "text/plain": [
       "'the'"
      ]
     },
     "execution_count": 86,
     "metadata": {},
     "output_type": "execute_result"
    }
   ],
   "source": []
  },
  {
   "cell_type": "code",
   "execution_count": null,
   "metadata": {
    "collapsed": true
   },
   "outputs": [],
   "source": []
  },
  {
   "cell_type": "code",
   "execution_count": null,
   "metadata": {
    "collapsed": true
   },
   "outputs": [],
   "source": []
  },
  {
   "cell_type": "code",
   "execution_count": null,
   "metadata": {
    "collapsed": true
   },
   "outputs": [],
   "source": []
  },
  {
   "cell_type": "code",
   "execution_count": null,
   "metadata": {
    "collapsed": true
   },
   "outputs": [],
   "source": []
  },
  {
   "cell_type": "code",
   "execution_count": null,
   "metadata": {
    "collapsed": true
   },
   "outputs": [],
   "source": []
  },
  {
   "cell_type": "code",
   "execution_count": null,
   "metadata": {
    "collapsed": true
   },
   "outputs": [],
   "source": []
  },
  {
   "cell_type": "code",
   "execution_count": null,
   "metadata": {
    "collapsed": false
   },
   "outputs": [],
   "source": [
    "hist=model.fit([input_train, dec_input_train], labels_train, \n",
    "          validation_data=[[input_test, dec_input_test], labels_test], \n",
    "          batch_size=64, epochs=10)"
   ]
  },
  {
   "cell_type": "code",
   "execution_count": null,
   "metadata": {
    "collapsed": true
   },
   "outputs": [],
   "source": [
    "hist.history['val_loss']"
   ]
  },
  {
   "cell_type": "code",
   "execution_count": null,
   "metadata": {
    "collapsed": true
   },
   "outputs": [],
   "source": [
    "# reduce learning rate before continuing\n",
    "K.set_value(model.optimizer.lr, 1e-4)"
   ]
  },
  {
   "cell_type": "code",
   "execution_count": null,
   "metadata": {
    "collapsed": true
   },
   "outputs": [],
   "source": [
    "hist=model.fit([input_train, dec_input_train], np.expand_dims(labels_train,-1), \n",
    "          validation_data=[[input_test, dec_input_test], np.expand_dims(labels_test,-1)], \n",
    "          batch_size=64, **parms, nb_epoch=5)"
   ]
  },
  {
   "cell_type": "code",
   "execution_count": null,
   "metadata": {
    "collapsed": false
   },
   "outputs": [],
   "source": [
    "dec_input_test.shape\n",
    "np.expand_dims(labels_train,-1).shape"
   ]
  },
  {
   "cell_type": "code",
   "execution_count": null,
   "metadata": {
    "collapsed": false
   },
   "outputs": [],
   "source": [
    "labels_train = np.array([to_categorical(ex, 10000) for ex in labels_train])"
   ]
  },
  {
   "cell_type": "code",
   "execution_count": null,
   "metadata": {
    "collapsed": false
   },
   "outputs": [],
   "source": [
    "len(labels_train[0][0])"
   ]
  },
  {
   "cell_type": "code",
   "execution_count": null,
   "metadata": {
    "collapsed": true
   },
   "outputs": [],
   "source": [
    "labels_test = np.array([to_categorical(ex, 10000) for ex in labels_test])"
   ]
  }
 ],
 "metadata": {
  "anaconda-cloud": {},
  "kernelspec": {
   "display_name": "Python [default]",
   "language": "python",
   "name": "python3"
  },
  "language_info": {
   "codemirror_mode": {
    "name": "ipython",
    "version": 3
   },
   "file_extension": ".py",
   "mimetype": "text/x-python",
   "name": "python",
   "nbconvert_exporter": "python",
   "pygments_lexer": "ipython3",
   "version": "3.5.2"
  }
 },
 "nbformat": 4,
 "nbformat_minor": 1
}
